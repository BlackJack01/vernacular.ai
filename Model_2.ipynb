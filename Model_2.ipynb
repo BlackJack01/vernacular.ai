{
 "cells": [
  {
   "cell_type": "code",
   "execution_count": 1,
   "metadata": {},
   "outputs": [],
   "source": [
    "from sklearn.datasets import fetch_20newsgroups"
   ]
  },
  {
   "cell_type": "code",
   "execution_count": 4,
   "metadata": {},
   "outputs": [],
   "source": [
    "categories_train = ['comp.graphics', 'comp.sys.ibm.pc.hardware']\n",
    "train_data = fetch_20newsgroups(subset='train', categories=categories_train)['data']"
   ]
  },
  {
   "cell_type": "code",
   "execution_count": 6,
   "metadata": {},
   "outputs": [
    {
     "name": "stdout",
     "output_type": "stream",
     "text": [
      "[nltk_data] Downloading package stopwords to\n",
      "[nltk_data]     C:\\Users\\aakash\\AppData\\Roaming\\nltk_data...\n",
      "[nltk_data]   Package stopwords is already up-to-date!\n"
     ]
    }
   ],
   "source": [
    "import re\n",
    "import nltk\n",
    "nltk.download('stopwords')\n",
    "from nltk.corpus import stopwords"
   ]
  },
  {
   "cell_type": "code",
   "execution_count": 3,
   "metadata": {},
   "outputs": [],
   "source": [
    "def preprocess_data(text):\n",
    "    text=text.replace('\\n',' ')\n",
    "    letters_only=re.sub('[^a-zA-Z]', ' ', text)\n",
    "    lower_case=letters_only.lower().split()\n",
    "    words = [w for w in lower_case if not w in stopwords.words('english')]\n",
    "    return ' '.join(words)\n",
    "\n",
    "def preprocess_corpus(data):\n",
    "    processed_data=[]\n",
    "    for i in range(len(data)):\n",
    "        processed_data.append(preprocess_data(data[i]))\n",
    "    return processed_data"
   ]
  },
  {
   "cell_type": "code",
   "execution_count": 7,
   "metadata": {},
   "outputs": [],
   "source": [
    "preprocessed_data = preprocess_corpus(train_data)"
   ]
  },
  {
   "cell_type": "code",
   "execution_count": 8,
   "metadata": {},
   "outputs": [],
   "source": [
    "from sklearn.feature_extraction.text import TfidfVectorizer\n",
    "vectorizer = TfidfVectorizer()"
   ]
  },
  {
   "cell_type": "code",
   "execution_count": 83,
   "metadata": {},
   "outputs": [],
   "source": [
    "vectorized_data = vectorizer.fit_transform(preprocessed_data)"
   ]
  },
  {
   "cell_type": "code",
   "execution_count": 84,
   "metadata": {},
   "outputs": [],
   "source": [
    "vectorized_data=np.array(vectorized_data.todense())"
   ]
  },
  {
   "cell_type": "code",
   "execution_count": 21,
   "metadata": {},
   "outputs": [],
   "source": [
    "n_input_output = vectorized_data.shape[1]\n",
    "n_hidden = 100"
   ]
  },
  {
   "cell_type": "code",
   "execution_count": 102,
   "metadata": {},
   "outputs": [],
   "source": [
    "import tensorflow as tf"
   ]
  },
  {
   "cell_type": "code",
   "execution_count": 103,
   "metadata": {},
   "outputs": [],
   "source": [
    "X = tf.placeholder(shape = [None, n_input_output], dtype = tf.float64)\n",
    "Y = tf.placeholder(shape = [None, n_input_output], dtype = tf.float64)"
   ]
  },
  {
   "cell_type": "code",
   "execution_count": 111,
   "metadata": {},
   "outputs": [],
   "source": [
    "W = {\n",
    "    'h':tf.Variable(tf.random_normal(shape = [n_input_output, n_hidden], dtype = tf.float64), dtype = tf.float64),\n",
    "    'out':tf.Variable(tf.random_normal(shape = [n_hidden, n_input_output], dtype = tf.float64), dtype = tf.float64)\n",
    "}\n",
    "\n",
    "b = {\n",
    "    'h':tf.Variable(tf.random_normal(shape = [n_hidden], dtype = tf.float64), dtype = tf.float64),\n",
    "    'out':tf.Variable(tf.random_normal(shape = [n_input_output], dtype = tf.float64), dtype = tf.float64)\n",
    "}"
   ]
  },
  {
   "cell_type": "code",
   "execution_count": 105,
   "metadata": {},
   "outputs": [],
   "source": [
    "def model(x):\n",
    "    h = tf.add(tf.matmul(x, W['h']), b['h'])\n",
    "    out = tf.add(tf.matmul(h, W['out']), b['out'])\n",
    "    return out"
   ]
  },
  {
   "cell_type": "code",
   "execution_count": 106,
   "metadata": {},
   "outputs": [],
   "source": [
    "prediction = model(X)\n",
    "loss = tf.reduce_mean(tf.square(prediction - Y))\n",
    "optimizer = tf.train.GradientDescentOptimizer(0.01)\n",
    "train_step = optimizer.minimize(loss)"
   ]
  },
  {
   "cell_type": "code",
   "execution_count": 107,
   "metadata": {},
   "outputs": [],
   "source": [
    "init = tf.global_variables_initializer()"
   ]
  },
  {
   "cell_type": "code",
   "execution_count": 114,
   "metadata": {},
   "outputs": [],
   "source": [
    "sess = tf.Session()\n",
    "sess.run(init)"
   ]
  },
  {
   "cell_type": "code",
   "execution_count": 109,
   "metadata": {},
   "outputs": [],
   "source": [
    "batch_size = 24\n",
    "n_iterations = (int)(vectorized_data.shape[0]/batch_size)+1"
   ]
  },
  {
   "cell_type": "code",
   "execution_count": 115,
   "metadata": {},
   "outputs": [
    {
     "name": "stdout",
     "output_type": "stream",
     "text": [
      "Epoch  0\n",
      "Iteration  10      150.154070525\n",
      "Iteration  20      131.65245756\n",
      "Iteration  30      120.490396377\n",
      "Iteration  40      112.557675423\n",
      "Epoch  1\n",
      "Iteration  10      107.299981362\n",
      "Iteration  20      100.332109635\n",
      "Iteration  30      99.7135325496\n",
      "Iteration  40      100.743565995\n",
      "Epoch  2\n",
      "Iteration  10      101.477106621\n",
      "Iteration  20      95.2779158016\n",
      "Iteration  30      96.3019217264\n",
      "Iteration  40      99.0501547521\n",
      "Epoch  3\n",
      "Iteration  10      100.435698066\n",
      "Iteration  20      94.1210294025\n",
      "Iteration  30      95.4587547794\n",
      "Iteration  40      98.5649509345\n",
      "Epoch  4\n",
      "Iteration  10      99.9888406911\n",
      "Iteration  20      93.6428139347\n",
      "Iteration  30      95.0503398924\n",
      "Iteration  40      98.1938517501\n",
      "Epoch  5\n",
      "Iteration  10      99.6024743833\n",
      "Iteration  20      93.3151452907\n",
      "Iteration  30      94.7323518848\n",
      "Iteration  40      97.8229811926\n",
      "Epoch  6\n",
      "Iteration  10      99.2174865034\n",
      "Iteration  20      93.0311646005\n",
      "Iteration  30      94.4386180974\n",
      "Iteration  40      97.4488091872\n",
      "Epoch  7\n",
      "Iteration  10      98.8315739792\n",
      "Iteration  20      92.7629558826\n",
      "Iteration  30      94.1532858332\n",
      "Iteration  40      97.0749343379\n",
      "Epoch  8\n",
      "Iteration  10      98.4467607452\n",
      "Iteration  20      92.5015305614\n",
      "Iteration  30      93.8717209125\n",
      "Iteration  40      96.7031851017\n",
      "Epoch  9\n",
      "Iteration  10      98.0642314929\n",
      "Iteration  20      92.2436206797\n",
      "Iteration  30      93.5923777787\n",
      "Iteration  40      96.3342196657\n",
      "Epoch  10\n",
      "Iteration  10      97.6844812603\n",
      "Iteration  20      91.9879640526\n",
      "Iteration  30      93.3147006755\n",
      "Iteration  40      95.9682300202\n",
      "Epoch  11\n",
      "Iteration  10      97.3076845714\n",
      "Iteration  20      91.7340552515\n",
      "Iteration  30      93.0384790936\n",
      "Iteration  40      95.6052461032\n",
      "Epoch  12\n",
      "Iteration  10      96.9338841677\n",
      "Iteration  20      91.4816837675\n",
      "Iteration  30      92.7636280807\n",
      "Iteration  40      95.2452453134\n",
      "Epoch  13\n",
      "Iteration  10      96.5630709447\n",
      "Iteration  20      91.2307557559\n",
      "Iteration  30      92.4901093104\n",
      "Iteration  40      94.8881891826\n",
      "Epoch  14\n",
      "Iteration  10      96.1952159695\n",
      "Iteration  20      90.9812239432\n",
      "Iteration  30      92.2179019993\n",
      "Iteration  40      94.5340351336\n",
      "Epoch  15\n",
      "Iteration  10      95.8302830585\n",
      "Iteration  20      90.7330598297\n",
      "Iteration  30      91.946992054\n",
      "Iteration  40      94.1827400973\n",
      "Epoch  16\n",
      "Iteration  10      95.4682336843\n",
      "Iteration  20      90.4862426125\n",
      "Iteration  30      91.6773679923\n",
      "Iteration  40      93.8342615641\n",
      "Epoch  17\n",
      "Iteration  10      95.1090288791\n",
      "Iteration  20      90.2407547563\n",
      "Iteration  30      91.4090194013\n",
      "Iteration  40      93.4885578543\n",
      "Epoch  18\n",
      "Iteration  10      94.7526299683\n",
      "Iteration  20      89.9965802156\n",
      "Iteration  30      91.1419363519\n",
      "Iteration  40      93.1455881655\n",
      "Epoch  19\n",
      "Iteration  10      94.3989988461\n",
      "Iteration  20      89.7537037164\n",
      "Iteration  30      90.8761091745\n",
      "Iteration  40      92.8053125612\n",
      "Epoch  20\n",
      "Iteration  10      94.0480980727\n",
      "Iteration  20      89.5121104643\n",
      "Iteration  30      90.6115283723\n",
      "Iteration  40      92.4676919473\n",
      "Epoch  21\n",
      "Iteration  10      93.6998909025\n",
      "Iteration  20      89.2717860216\n",
      "Iteration  30      90.3481845864\n",
      "Iteration  40      92.1326880484\n",
      "Epoch  22\n",
      "Iteration  10      93.354341284\n",
      "Iteration  20      89.0327162548\n",
      "Iteration  30      90.0860685813\n",
      "Iteration  40      91.8002633855\n",
      "Epoch  23\n",
      "Iteration  10      93.0114138511\n",
      "Iteration  20      88.7948873087\n",
      "Iteration  30      89.825171238\n",
      "Iteration  40      91.4703812547\n",
      "Epoch  24\n",
      "Iteration  10      92.6710739086\n",
      "Iteration  20      88.5582855925\n",
      "Iteration  30      89.5654835498\n",
      "Iteration  40      91.1430057076\n",
      "Epoch  25\n",
      "Iteration  10      92.3332874184\n",
      "Iteration  20      88.3228977708\n",
      "Iteration  30      89.30699662\n",
      "Iteration  40      90.8181015322\n",
      "Epoch  26\n",
      "Iteration  10      91.9980209836\n",
      "Iteration  20      88.0887107557\n",
      "Iteration  30      89.049701659\n",
      "Iteration  40      90.4956342348\n",
      "Epoch  27\n",
      "Iteration  10      91.6652418344\n",
      "Iteration  20      87.8557117009\n",
      "Iteration  30      88.7935899828\n",
      "Iteration  40      90.1755700219\n",
      "Epoch  28\n",
      "Iteration  10      91.3349178133\n",
      "Iteration  20      87.6238879954\n",
      "Iteration  30      88.5386530107\n",
      "Iteration  40      89.8578757832\n",
      "Epoch  29\n",
      "Iteration  10      91.0070173608\n",
      "Iteration  20      87.3932272581\n",
      "Iteration  30      88.2848822634\n",
      "Iteration  40      89.5425190747\n",
      "Epoch  30\n",
      "Iteration  10      90.6815095019\n",
      "Iteration  20      87.163717332\n",
      "Iteration  30      88.0322693615\n",
      "Iteration  40      89.2294681024\n",
      "Epoch  31\n",
      "Iteration  10      90.3583638323\n",
      "Iteration  20      86.9353462794\n",
      "Iteration  30      87.7808060234\n",
      "Iteration  40      88.9186917068\n",
      "Epoch  32\n",
      "Iteration  10      90.0375505057\n",
      "Iteration  20      86.7081023762\n",
      "Iteration  30      87.5304840634\n",
      "Iteration  40      88.6101593471\n",
      "Epoch  33\n",
      "Iteration  10      89.7190402206\n",
      "Iteration  20      86.4819741073\n",
      "Iteration  30      87.2812953907\n",
      "Iteration  40      88.3038410864\n",
      "Epoch  34\n",
      "Iteration  10      89.4028042085\n",
      "Iteration  20      86.2569501614\n",
      "Iteration  30      87.0332320071\n",
      "Iteration  40      87.9997075772\n",
      "Epoch  35\n",
      "Iteration  10      89.0888142211\n",
      "Iteration  20      86.0330194267\n",
      "Iteration  30      86.7862860055\n",
      "Iteration  40      87.6977300471\n",
      "Epoch  36\n",
      "Iteration  10      88.7770425192\n",
      "Iteration  20      85.8101709859\n",
      "Iteration  30      86.5404495685\n",
      "Iteration  40      87.3978802851\n",
      "Epoch  37\n",
      "Iteration  10      88.4674618607\n",
      "Iteration  20      85.5883941117\n",
      "Iteration  30      86.2957149667\n",
      "Iteration  40      87.1001306282\n",
      "Epoch  38\n",
      "Iteration  10      88.1600454899\n",
      "Iteration  20      85.3676782629\n",
      "Iteration  30      86.0520745573\n",
      "Iteration  40      86.8044539483\n",
      "Epoch  39\n",
      "Iteration  10      87.8547671263\n",
      "Iteration  20      85.1480130796\n",
      "Iteration  30      85.8095207826\n",
      "Iteration  40      86.5108236397\n",
      "Epoch  40\n",
      "Iteration  10      87.5516009542\n",
      "Iteration  20      84.9293883792\n",
      "Iteration  30      85.5680461684\n",
      "Iteration  40      86.2192136065\n",
      "Epoch  41\n",
      "Iteration  10      87.2505216124\n",
      "Iteration  20      84.7117941528\n",
      "Iteration  30      85.3276433229\n",
      "Iteration  40      85.9295982505\n",
      "Epoch  42\n",
      "Iteration  10      86.9515041839\n",
      "Iteration  20      84.4952205606\n",
      "Iteration  30      85.088304935\n",
      "Iteration  40      85.6419524599\n",
      "Epoch  43\n",
      "Iteration  10      86.6545241866\n",
      "Iteration  20      84.2796579285\n",
      "Iteration  30      84.8500237731\n",
      "Iteration  40      85.3562515975\n",
      "Epoch  44\n",
      "Iteration  10      86.3595575632\n",
      "Iteration  20      84.0650967444\n",
      "Iteration  30      84.612792684\n",
      "Iteration  40      85.07247149\n",
      "Epoch  45\n",
      "Iteration  10      86.0665806722\n",
      "Iteration  20      83.8515276542\n",
      "Iteration  30      84.376604591\n",
      "Iteration  40      84.7905884167\n",
      "Epoch  46\n",
      "Iteration  10      85.7755702789\n",
      "Iteration  20      83.6389414588\n",
      "Iteration  30      84.1414524934\n",
      "Iteration  40      84.5105790994\n",
      "Epoch  47\n",
      "Iteration  10      85.4865035465\n",
      "Iteration  20      83.4273291102\n",
      "Iteration  30      83.9073294647\n",
      "Iteration  40      84.2324206921\n",
      "Epoch  48\n",
      "Iteration  10      85.1993580274\n",
      "Iteration  20      83.2166817084\n",
      "Iteration  30      83.6742286517\n",
      "Iteration  40      83.9560907708\n",
      "Epoch  49\n",
      "Iteration  10      84.9141116548\n",
      "Iteration  20      83.0069904979\n",
      "Iteration  30      83.4421432732\n",
      "Iteration  40      83.681567324\n"
     ]
    }
   ],
   "source": [
    "for epoch in range(50):\n",
    "    print(\"Epoch \",epoch)\n",
    "    for i in range(n_iterations):\n",
    "        if i < n_iterations-1:\n",
    "            batch_x = vectorized_data[i*batch_size: (i+1)*batch_size]\n",
    "        else:\n",
    "            batch_x = vectorized_data[i*batch_size: vectorized_data.shape[0]]\n",
    "        sess.run(train_step, feed_dict = { X:batch_x,Y: batch_x})\n",
    "        if (i+1)%10 == 0:\n",
    "            print(\"Iteration \",(i+1),\"    \",sess.run(loss, feed_dict = {X: batch_x, Y: batch_x}))\n",
    "        "
   ]
  },
  {
   "cell_type": "code",
   "execution_count": 118,
   "metadata": {},
   "outputs": [
    {
     "data": {
      "text/plain": [
       "110.14351739797415"
      ]
     },
     "execution_count": 118,
     "metadata": {},
     "output_type": "execute_result"
    }
   ],
   "source": [
    "sess.run(loss, feed_dict = {X: vectorized_data[15:16],Y: vectorized_data[15:16]})"
   ]
  },
  {
   "cell_type": "code",
   "execution_count": 117,
   "metadata": {},
   "outputs": [],
   "source": [
    "categories_test = ['alt.atheism']\n",
    "test_data = fetch_20newsgroups(subset='test', categories=categories_test)['data']"
   ]
  },
  {
   "cell_type": "code",
   "execution_count": 119,
   "metadata": {},
   "outputs": [],
   "source": [
    "preprocessed_test_data = preprocess_corpus(test_data)"
   ]
  },
  {
   "cell_type": "code",
   "execution_count": 120,
   "metadata": {},
   "outputs": [],
   "source": [
    "vectorized_test_data = vectorizer.transform(preprocessed_test_data)"
   ]
  },
  {
   "cell_type": "code",
   "execution_count": 121,
   "metadata": {},
   "outputs": [],
   "source": [
    "vectorized_test_data = np.array(vectorized_test_data.todense())"
   ]
  },
  {
   "cell_type": "code",
   "execution_count": 127,
   "metadata": {},
   "outputs": [],
   "source": [
    "loss1 = tf.reduce_mean(tf.square(prediction - Y), axis = 0) "
   ]
  },
  {
   "cell_type": "code",
   "execution_count": 129,
   "metadata": {},
   "outputs": [],
   "source": [
    "pred = sess.run(loss1, feed_dict = {X: vectorized_test_data,Y: vectorized_test_data})"
   ]
  },
  {
   "cell_type": "code",
   "execution_count": 131,
   "metadata": {},
   "outputs": [],
   "source": [
    "pred1 = sess.run(loss1, feed_dict = {X: vectorized_data,Y: vectorized_data})"
   ]
  },
  {
   "cell_type": "code",
   "execution_count": 125,
   "metadata": {},
   "outputs": [
    {
     "data": {
      "text/plain": [
       "90.907914673942955"
      ]
     },
     "execution_count": 125,
     "metadata": {},
     "output_type": "execute_result"
    }
   ],
   "source": [
    "sess.run(loss, feed_dict = {X: vectorized_test_data[1:2],Y: vectorized_test_data[1:2]})"
   ]
  },
  {
   "cell_type": "code",
   "execution_count": 130,
   "metadata": {},
   "outputs": [
    {
     "data": {
      "image/png": "[encoded data removed]",
      "text/plain": [
       "<matplotlib.figure.Figure at 0x938ed0c4e0>"
      ]
     },
     "metadata": {},
     "output_type": "display_data"
    }
   ],
   "source": [
    "import matplotlib.pyplot as plt\n",
    "\n",
    "plt.figure(figsize = (4,8))\n",
    "plt.hist(pred)\n",
    "plt.show()"
   ]
  },
  {
   "cell_type": "code",
   "execution_count": 132,
   "metadata": {},
   "outputs": [
    {
     "data": {
      "image/png": "[encoded data removed]",
      "text/plain": [
       "<matplotlib.figure.Figure at 0x93916d2198>"
      ]
     },
     "metadata": {},
     "output_type": "display_data"
    }
   ],
   "source": [
    "plt.figure(figsize = (4,8))\n",
    "plt.hist(pred1)\n",
    "plt.show()"
   ]
  },
  {
   "cell_type": "code",
   "execution_count": 150,
   "metadata": {},
   "outputs": [],
   "source": [
    "## here I decide 90 as the threshold limit\n",
    "result =[]\n",
    "for i in range(len(pred)):\n",
    "    if pred[i]>=90:\n",
    "        result.append(-1)\n",
    "    else:\n",
    "        result.append(1)"
   ]
  },
  {
   "cell_type": "code",
   "execution_count": 151,
   "metadata": {},
   "outputs": [
    {
     "data": {
      "text/plain": [
       "-2727"
      ]
     },
     "execution_count": 151,
     "metadata": {},
     "output_type": "execute_result"
    }
   ],
   "source": [
    "np.sum(result)"
   ]
  },
  {
   "cell_type": "code",
   "execution_count": 152,
   "metadata": {},
   "outputs": [],
   "source": [
    "result1 =[]\n",
    "for i in range(len(pred1)):\n",
    "    if pred1[i]>=90:\n",
    "        result1.append(-1)\n",
    "    else:\n",
    "        result1.append(1)"
   ]
  },
  {
   "cell_type": "code",
   "execution_count": 153,
   "metadata": {},
   "outputs": [
    {
     "data": {
      "text/plain": [
       "6387"
      ]
     },
     "execution_count": 153,
     "metadata": {},
     "output_type": "execute_result"
    }
   ],
   "source": [
    "np.sum(result1)"
   ]
  },
  {
   "cell_type": "code",
   "execution_count": 146,
   "metadata": {},
   "outputs": [
    {
     "data": {
      "text/plain": [
       "16623"
      ]
     },
     "execution_count": 146,
     "metadata": {},
     "output_type": "execute_result"
    }
   ],
   "source": [
    "len(pred1)"
   ]
  },
  {
   "cell_type": "code",
   "execution_count": null,
   "metadata": {},
   "outputs": [],
   "source": []
  }
 ],
 "metadata": {
  "kernelspec": {
   "display_name": "Python 3",
   "language": "python",
   "name": "python3"
  },
  "language_info": {
   "codemirror_mode": {
    "name": "ipython",
    "version": 3
   },
   "file_extension": ".py",
   "mimetype": "text/x-python",
   "name": "python",
   "nbconvert_exporter": "python",
   "pygments_lexer": "ipython3",
   "version": "3.5.4"
  }
 },
 "nbformat": 4,
 "nbformat_minor": 2
}
